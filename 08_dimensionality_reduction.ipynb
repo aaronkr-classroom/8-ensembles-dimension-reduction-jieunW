{
  "cells": [
    {
      "cell_type": "markdown",
      "metadata": {
        "id": "TSI3Bi6_ZPsK"
      },
      "source": [
        "**8장 – 차원 축소**"
      ]
    },
    {
      "cell_type": "markdown",
      "metadata": {
        "id": "92P17NZCZPsM"
      },
      "source": [
        "_이 노트북에는 8장의 모든 샘플 코드와 연습 문제에 대한 솔루션이 포함되어 있습니다._"
      ]
    },
    {
      "cell_type": "markdown",
      "metadata": {
        "id": "tFqufUsSZPsN"
      },
      "source": [
        "<table align=\"left\">\n",
        "  <td>\n",
        "    <a href=\"https://colab.research.google.com/github/rickiepark/handson-ml3/blob/main/08_dimensionality_reduction.ipynb\" target=\"_parent\"><img src=\"https://colab.research.google.com/assets/colab-badge.svg\" alt=\"Open In Colab\"/></a>\n",
        "  </td>\n",
        "</table>"
      ]
    },
    {
      "cell_type": "markdown",
      "metadata": {
        "id": "pDYWWAPEZPsN",
        "tags": []
      },
      "source": [
        "# 8.0 설정"
      ]
    },
    {
      "cell_type": "markdown",
      "metadata": {
        "id": "aup0_QGIZPsO"
      },
      "source": [
        "이 프로젝트에는 Python 3.7 이상이 필요합니다:"
      ]
    },
    {
      "cell_type": "code",
      "execution_count": 1,
      "metadata": {
        "id": "qtOwm4RAZPsO"
      },
      "outputs": [],
      "source": [
        "import sys\n",
        "\n",
        "assert sys.version_info >= (3, 7)"
      ]
    },
    {
      "cell_type": "markdown",
      "metadata": {
        "id": "bm_x3LQ8ZPsP"
      },
      "source": [
        "또한 Scikit-Learn ≥ 1.0.1이 필요합니다:"
      ]
    },
    {
      "cell_type": "code",
      "execution_count": 2,
      "metadata": {
        "id": "dnd_htteZPsP"
      },
      "outputs": [],
      "source": [
        "from packaging import version\n",
        "import sklearn\n",
        "\n",
        "assert version.parse(sklearn.__version__) >= version.parse(\"1.0.1\")"
      ]
    },
    {
      "cell_type": "markdown",
      "metadata": {
        "id": "ONgYVEY9ZPsP"
      },
      "source": [
        "이전 장에서와 마찬가지로 기본 글꼴 크기를 정의하여 그림을 더 예쁘게 만들어 보겠습니다:"
      ]
    },
    {
      "cell_type": "code",
      "execution_count": 3,
      "metadata": {
        "colab": {
          "base_uri": "https://localhost:8080/"
        },
        "id": "VkbvKyk6ZPsP",
        "outputId": "76066dee-1128-474d-d10f-11cc456e67c0"
      },
      "outputs": [],
      "source": [
        "import matplotlib.pyplot as plt\n",
        "\n",
        "plt.rc('font', size=14)\n",
        "plt.rc('axes', labelsize=14, titlesize=14)\n",
        "plt.rc('legend', fontsize=14)\n",
        "plt.rc('xtick', labelsize=10)\n",
        "plt.rc('ytick', labelsize=10)\n",
        "\n",
        "import sys\n",
        "# 코랩의 경우 나눔 폰트를 설치합니다.\n",
        "if 'google.colab' in sys.modules:\n",
        "    !sudo apt-get -qq -y install fonts-nanum\n",
        "    import matplotlib.font_manager as fm\n",
        "    font_files = fm.findSystemFonts(fontpaths=['/usr/share/fonts/truetype/nanum'])\n",
        "    for fpath in font_files:\n",
        "        fm.fontManager.addfont(fpath)\n",
        "\n",
        "# 나눔 폰트를 사용합니다.\n",
        "import matplotlib\n",
        "\n",
        "matplotlib.rc('font', family='NanumBarunGothic')\n",
        "matplotlib.rcParams['axes.unicode_minus'] = False"
      ]
    },
    {
      "cell_type": "markdown",
      "metadata": {
        "id": "fE_npZCGZPsQ"
      },
      "source": [
        "그리고 `images/dim_reduction` 폴더를 만들고(아직 존재하지 않는 경우), 이 노트북을 통해 책에 사용할 그림을 고해상도로 저장하는 데 사용되는 `save_fig()` 함수를 정의해 보겠습니다:"
      ]
    },
    {
      "cell_type": "code",
      "execution_count": 4,
      "metadata": {
        "id": "k9BgQv_yZPsQ"
      },
      "outputs": [],
      "source": [
        "from pathlib import Path\n",
        "\n",
        "IMAGES_PATH = Path() / \"images\" / \"dim_reduction\"\n",
        "IMAGES_PATH.mkdir(parents=True, exist_ok=True)\n",
        "\n",
        "def save_fig(fig_id, tight_layout=True, fig_extension=\"png\", resolution=300):\n",
        "    path = IMAGES_PATH / f\"{fig_id}.{fig_extension}\"\n",
        "    if tight_layout:\n",
        "        plt.tight_layout()\n",
        "    plt.savefig(path, format=fig_extension, dpi=resolution)"
      ]
    },
    {
      "cell_type": "markdown",
      "metadata": {
        "id": "TqmSDk3bZPsQ"
      },
      "source": [
        "# 8.3 PCA"
      ]
    },
    {
      "cell_type": "markdown",
      "metadata": {
        "id": "3CRB9rLtZPsQ"
      },
      "source": [
        "이 장에서는 PCA와 매니폴드 학습의 개념을 설명하기 위해 몇 가지 그림으로 시작합니다. 아래는 이러한 그림을 생성하는 코드입니다. 원하는 경우 아래의 [주성분](#Principal-Components) 섹션으로 바로 건너뛸 수 있습니다."
      ]
    },
    {
      "cell_type": "markdown",
      "metadata": {
        "id": "EY-H4WM7ZPsQ"
      },
      "source": [
        "작은 3D 데이터 집합을 생성해 보겠습니다. 타원형이고 3D 공간에서 회전하며 점들이 고르지 않게 분포되어 있고 노이즈가 상당히 많은 데이터입니다:"
      ]
    },
    {
      "cell_type": "code",
      "execution_count": 5,
      "metadata": {
        "id": "bay7921pZPsQ"
      },
      "outputs": [],
      "source": [
        "# 추가 코드\n",
        "\n",
        "import numpy as np\n",
        "from scipy.spatial.transform import Rotation\n",
        "\n",
        "m = 60\n",
        "X = np.zeros((m, 3))  # 3D 데이터\u001f 초기화\n",
        "np.random.seed(42)\n",
        "angles = (np.random.rand(m) ** 3 + 0.5) * 2 * np.pi  # 고르지 않은 분포\n",
        "X[:, 0], X[:, 1] = np.cos(angles), np.sin(angles) * 0.5  # 타원형\n",
        "X += 0.28 * np.random.randn(m, 3)  # 노이즈 추가\n",
        "X = Rotation.from_rotvec([np.pi / 29, -np.pi / 20, np.pi / 4]).apply(X)\n",
        "X += [0.2, 0, 0.2]  # 약간 이동"
      ]
    },
    {
      "cell_type": "markdown",
      "metadata": {
        "id": "wv9KziIaZPsR"
      },
      "source": [
        "투영 평면과 함께 3D 데이터셋을 그립니다."
      ]
    },
    {
      "cell_type": "code",
      "execution_count": null,
      "metadata": {
        "colab": {
          "base_uri": "https://localhost:8080/",
          "height": 730
        },
        "id": "_EYeO-VrZPsR",
        "outputId": "b0822d09-36b5-42a9-8d79-fcd4ec6b7bba",
        "tags": []
      },
      "outputs": [],
      "source": [
        "# 추가 코드 - 이 셀은 그림 8-2를 생성하고 저장합니다.\n",
        "\n",
        "import matplotlib.pyplot as plt\n",
        "from sklearn.decomposition import PCA\n",
        "\n",
        "pca = PCA(n_components=2)\n",
        "X2D = pca.fit_transform(X)  # 2D로 축소된 데이터셋\n",
        "X3D_inv = pca.inverse_transform(X2D)  # 투영된 샘플의 3D 위치\n",
        "X_centered = X - X.mean(axis=0)\n",
        "U, s, Vt = np.linalg.svd(X_centered)\n",
        "\n",
        "axes = [-1.4, 1.4, -1.4, 1.4, -1.1, 1.1]\n",
        "x1, x2 = np.meshgrid(np.linspace(axes[0], axes[1], 10),\n",
        "                     np.linspace(axes[2], axes[3], 10))\n",
        "w1, w2 = np.linalg.solve(Vt[:2, :2], Vt[:2, 2])  # 투영 평면의 계수\n",
        "z = w1 * (x1 - pca.mean_[0]) + w2 * (x2 - pca.mean_[1]) - pca.mean_[2]  # 평면\n",
        "X3D_above = X[X[:, 2] >= X3D_inv[:, 2]]  # 평면 위의 샘플\n",
        "X3D_below = X[X[:, 2] < X3D_inv[:, 2]]  # 평면 아래 샘플\n",
        "\n",
        "fig = plt.figure(figsize=(9, 9))\n",
        "ax = fig.add_subplot(111, projection=\"3d\")\n",
        "\n",
        "# 평면 아래에 샘플과 투영선을 먼저 그립니다.\n",
        "ax.plot(X3D_below[:, 0], X3D_below[:, 1], X3D_below[:, 2], \"ro\", alpha=0.3)\n",
        "for i in range(m):\n",
        "    if X[i, 2] < X3D_inv[i, 2]:\n",
        "        ax.plot([X[i][0], X3D_inv[i][0]],\n",
        "                [X[i][1], X3D_inv[i][1]],\n",
        "                [X[i][2], X3D_inv[i][2]], \":\", color=\"#F88\")\n",
        "\n",
        "ax.plot_surface(x1, x2, z, alpha=0.1, color=\"b\")  # 투영 평면\n",
        "ax.plot(X3D_inv[:, 0], X3D_inv[:, 1], X3D_inv[:, 2], \"b+\")  # 투영 샘플\n",
        "ax.plot(X3D_inv[:, 0], X3D_inv[:, 1], X3D_inv[:, 2], \"b.\")\n",
        "\n",
        "# 이제 평면 위 샘플과 투영선을 그립니다.\n",
        "for i in range(m):\n",
        "    if X[i, 2] >= X3D_inv[i, 2]:\n",
        "        ax.plot([X[i][0], X3D_inv[i][0]],\n",
        "                [X[i][1], X3D_inv[i][1]],\n",
        "                [X[i][2], X3D_inv[i][2]], \"r--\")\n",
        "\n",
        "ax.plot(X3D_above[:, 0], X3D_above[:, 1], X3D_above[:, 2], \"ro\")\n",
        "\n",
        "def set_xyz_axes(ax, axes):\n",
        "    ax.xaxis.set_rotate_label(False)\n",
        "    ax.yaxis.set_rotate_label(False)\n",
        "    ax.zaxis.set_rotate_label(False)\n",
        "    ax.set_xlabel(\"$x_1$\", labelpad=8, rotation=0)\n",
        "    ax.set_ylabel(\"$x_2$\", labelpad=8, rotation=0)\n",
        "    ax.set_zlabel(\"$x_3$\", labelpad=8, rotation=0)\n",
        "    ax.set_xlim(axes[0:2])\n",
        "    ax.set_ylim(axes[2:4])\n",
        "    ax.set_zlim(axes[4:6])\n",
        "\n",
        "set_xyz_axes(ax, axes)\n",
        "ax.set_zticks([-1, -0.5, 0, 0.5, 1])\n",
        "\n",
        "save_fig(\"dataset_3d_plot\", tight_layout=False)\n",
        "plt.show()"
      ]
    },
    {
      "cell_type": "code",
      "execution_count": null,
      "metadata": {
        "colab": {
          "base_uri": "https://localhost:8080/",
          "height": 401
        },
        "id": "gP1zceteZPsR",
        "outputId": "0c3fe201-5ed1-4f01-94bc-9a29799c26de"
      },
      "outputs": [],
      "source": [
        "# 추가 코드 - 이 셀은 그림 8-3을 생성하고 저장합니다.\n",
        "\n",
        "fig = plt.figure()\n",
        "ax = fig.add_subplot(1, 1, 1, aspect='equal')\n",
        "ax.plot(X2D[:, 0], X2D[:, 1], \"b+\")\n",
        "ax.plot(X2D[:, 0], X2D[:, 1], \"b.\")\n",
        "ax.plot([0], [0], \"bo\")\n",
        "ax.arrow(0, 0, 1, 0, head_width=0.05, length_includes_head=True,\n",
        "         head_length=0.1, fc='b', ec='b', linewidth=4)\n",
        "ax.arrow(0, 0, 0, 1, head_width=0.05, length_includes_head=True,\n",
        "         head_length=0.1, fc='b', ec='b', linewidth=1)\n",
        "ax.set_xlabel(\"$z_1$\")\n",
        "ax.set_yticks([-0.5, 0, 0.5, 1])\n",
        "ax.set_ylabel(\"$z_2$\", rotation=0)\n",
        "ax.set_axisbelow(True)\n",
        "ax.grid(True)\n",
        "save_fig(\"dataset_2d_plot\")"
      ]
    },
    {
      "cell_type": "code",
      "execution_count": 8,
      "metadata": {
        "id": "BQxH-8WRZPsR"
      },
      "outputs": [],
      "source": [
        "from sklearn.datasets import make_swiss_roll\n",
        "\n",
        "X_swiss, t = make_swiss_roll(n_samples=1000, noise=0.2, random_state=42)"
      ]
    },
    {
      "cell_type": "code",
      "execution_count": null,
      "metadata": {
        "colab": {
          "base_uri": "https://localhost:8080/",
          "height": 494
        },
        "id": "dhzM1n3sZPsS",
        "outputId": "1f07b23a-b5ce-4eff-cc28-3719e13e3429"
      },
      "outputs": [],
      "source": [
        "# 추가 코드 - 이 셀은 그림 8-4를 생성하고 저장합니다.\n",
        "\n",
        "from matplotlib.colors import ListedColormap\n",
        "\n",
        "darker_hot = ListedColormap(plt.cm.hot(np.linspace(0, 0.8, 256)))\n",
        "\n",
        "axes = [-11.5, 14, -2, 23, -12, 15]\n",
        "\n",
        "fig = plt.figure(figsize=(6, 5))\n",
        "ax = fig.add_subplot(111, projection='3d')\n",
        "\n",
        "ax.scatter(X_swiss[:, 0], X_swiss[:, 1], X_swiss[:, 2], c=t, cmap=darker_hot)\n",
        "ax.view_init(10, -70)\n",
        "set_xyz_axes(ax, axes)\n",
        "save_fig(\"swiss_roll_plot\")\n",
        "plt.show()"
      ]
    },
    {
      "cell_type": "code",
      "execution_count": null,
      "metadata": {
        "colab": {
          "base_uri": "https://localhost:8080/",
          "height": 395
        },
        "id": "IHlUcxDuZPsS",
        "outputId": "4c124e2f-eae8-42d6-a6d8-83986760138b"
      },
      "outputs": [],
      "source": [
        "# 추가 코드 - 이 셀은 그림 8-5에 대한 플롯을 생성하고 저장합니다.\n",
        "\n",
        "plt.figure(figsize=(10, 4))\n",
        "\n",
        "plt.subplot(121)\n",
        "plt.scatter(X_swiss[:, 0], X_swiss[:, 1], c=t, cmap=darker_hot)\n",
        "plt.axis(axes[:4])\n",
        "plt.xlabel(\"$x_1$\")\n",
        "plt.ylabel(\"$x_2$\", labelpad=10, rotation=0)\n",
        "plt.grid(True)\n",
        "\n",
        "plt.subplot(122)\n",
        "plt.scatter(t, X_swiss[:, 1], c=t, cmap=darker_hot)\n",
        "plt.axis([4, 14.8, axes[2], axes[3]])\n",
        "plt.xlabel(\"$z_1$\")\n",
        "plt.grid(True)\n",
        "\n",
        "save_fig(\"squished_swiss_roll_plot\")\n",
        "plt.show()"
      ]
    },
    {
      "cell_type": "code",
      "execution_count": null,
      "metadata": {
        "colab": {
          "base_uri": "https://localhost:8080/",
          "height": 1000
        },
        "id": "VK4o321QZPsS",
        "outputId": "3de28eb2-9d6e-4ab7-b726-b1ac2ca8569c"
      },
      "outputs": [],
      "source": [
        "# 추가 코드 - 이 셀은 그림 8-6에 대한 플롯을 생성하고 저장합니다.\n",
        "\n",
        "axes = [-11.5, 14, -2, 23, -12, 15]\n",
        "x2s = np.linspace(axes[2], axes[3], 10)\n",
        "x3s = np.linspace(axes[4], axes[5], 10)\n",
        "x2, x3 = np.meshgrid(x2s, x3s)\n",
        "\n",
        "positive_class = X_swiss[:, 0] > 5\n",
        "X_pos = X_swiss[positive_class]\n",
        "X_neg = X_swiss[~positive_class]\n",
        "\n",
        "fig = plt.figure(figsize=(6, 5))\n",
        "ax = plt.subplot(1, 1, 1, projection='3d')\n",
        "ax.view_init(10, -70)\n",
        "ax.plot(X_neg[:, 0], X_neg[:, 1], X_neg[:, 2], \"y^\")\n",
        "ax.plot_wireframe(5, x2, x3, alpha=0.5)\n",
        "ax.plot(X_pos[:, 0], X_pos[:, 1], X_pos[:, 2], \"gs\")\n",
        "set_xyz_axes(ax, axes)\n",
        "save_fig(\"manifold_decision_boundary_plot1\")\n",
        "plt.show()\n",
        "\n",
        "fig = plt.figure(figsize=(5, 4))\n",
        "ax = plt.subplot(1, 1, 1)\n",
        "ax.plot(t[positive_class], X_swiss[positive_class, 1], \"gs\")\n",
        "ax.plot(t[~positive_class], X_swiss[~positive_class, 1], \"y^\")\n",
        "ax.axis([4, 15, axes[2], axes[3]])\n",
        "ax.set_xlabel(\"$z_1$\")\n",
        "ax.set_ylabel(\"$z_2$\", rotation=0, labelpad=8)\n",
        "ax.grid(True)\n",
        "save_fig(\"manifold_decision_boundary_plot2\")\n",
        "plt.show()\n",
        "\n",
        "positive_class = 2 * (t[:] - 4) > X_swiss[:, 1]\n",
        "X_pos = X_swiss[positive_class]\n",
        "X_neg = X_swiss[~positive_class]\n",
        "\n",
        "fig = plt.figure(figsize=(6, 5))\n",
        "ax = plt.subplot(1, 1, 1, projection='3d')\n",
        "ax.view_init(10, -70)\n",
        "ax.plot(X_neg[:, 0], X_neg[:, 1], X_neg[:, 2], \"y^\")\n",
        "ax.plot(X_pos[:, 0], X_pos[:, 1], X_pos[:, 2], \"gs\")\n",
        "ax.xaxis.set_rotate_label(False)\n",
        "ax.yaxis.set_rotate_label(False)\n",
        "ax.zaxis.set_rotate_label(False)\n",
        "ax.set_xlabel(\"$x_1$\", rotation=0)\n",
        "ax.set_ylabel(\"$x_2$\", rotation=0)\n",
        "ax.set_zlabel(\"$x_3$\", rotation=0)\n",
        "ax.set_xlim(axes[0:2])\n",
        "ax.set_ylim(axes[2:4])\n",
        "ax.set_zlim(axes[4:6])\n",
        "save_fig(\"manifold_decision_boundary_plot3\")\n",
        "plt.show()\n",
        "\n",
        "fig = plt.figure(figsize=(5, 4))\n",
        "ax = plt.subplot(1, 1, 1)\n",
        "ax.plot(t[positive_class], X_swiss[positive_class, 1], \"gs\")\n",
        "ax.plot(t[~positive_class], X_swiss[~positive_class, 1], \"y^\")\n",
        "ax.plot([4, 15], [0, 22], \"b-\", linewidth=2)\n",
        "ax.axis([4, 15, axes[2], axes[3]])\n",
        "ax.set_xlabel(\"$z_1$\")\n",
        "ax.set_ylabel(\"$z_2$\", rotation=0, labelpad=8)\n",
        "ax.grid(True)\n",
        "save_fig(\"manifold_decision_boundary_plot4\")\n",
        "plt.show()"
      ]
    },
    {
      "cell_type": "code",
      "execution_count": null,
      "metadata": {
        "colab": {
          "base_uri": "https://localhost:8080/",
          "height": 395
        },
        "id": "4vzG4bMeZPsS",
        "outputId": "977f2603-55f6-45f2-e6c3-ae077d836e75"
      },
      "outputs": [],
      "source": [
        "# 추가 코드 - 이 셀은 그림 8-7을 생성하고 저장합니다.\n",
        "\n",
        "angle = np.pi / 5\n",
        "stretch = 5\n",
        "m = 200\n",
        "\n",
        "np.random.seed(3)\n",
        "X_line = np.random.randn(m, 2) / 10\n",
        "X_line = X_line @ np.array([[stretch, 0], [0, 1]])  # 스트레치\n",
        "X_line = X_line @ [[np.cos(angle), np.sin(angle)],\n",
        "                   [np.sin(angle), np.cos(angle)]]  # 회전\n",
        "\n",
        "u1 = np.array([np.cos(angle), np.sin(angle)])\n",
        "u2 = np.array([np.cos(angle - 2 * np.pi / 6), np.sin(angle - 2 * np.pi / 6)])\n",
        "u3 = np.array([np.cos(angle - np.pi / 2), np.sin(angle - np.pi / 2)])\n",
        "\n",
        "X_proj1 = X_line @ u1.reshape(-1, 1)\n",
        "X_proj2 = X_line @ u2.reshape(-1, 1)\n",
        "X_proj3 = X_line @ u3.reshape(-1, 1)\n",
        "\n",
        "plt.figure(figsize=(8, 4))\n",
        "plt.subplot2grid((3, 2), (0, 0), rowspan=3)\n",
        "plt.plot([-1.4, 1.4], [-1.4 * u1[1] / u1[0], 1.4 * u1[1] / u1[0]], \"k-\",\n",
        "         linewidth=2)\n",
        "plt.plot([-1.4, 1.4], [-1.4 * u2[1] / u2[0], 1.4 * u2[1] / u2[0]], \"k--\",\n",
        "         linewidth=2)\n",
        "plt.plot([-1.4, 1.4], [-1.4 * u3[1] / u3[0], 1.4 * u3[1] / u3[0]], \"k:\",\n",
        "         linewidth=2)\n",
        "plt.plot(X_line[:, 0], X_line[:, 1], \"ro\", alpha=0.5)\n",
        "plt.arrow(0, 0, u1[0], u1[1], head_width=0.1, linewidth=4, alpha=0.9,\n",
        "          length_includes_head=True, head_length=0.1, fc=\"b\", ec=\"b\", zorder=10)\n",
        "plt.arrow(0, 0, u3[0], u3[1], head_width=0.1, linewidth=1, alpha=0.9,\n",
        "          length_includes_head=True, head_length=0.1, fc=\"b\", ec=\"b\", zorder=10)\n",
        "plt.text(u1[0] + 0.1, u1[1] - 0.05, r\"$\\mathbf{c_1}$\", color=\"blue\")\n",
        "plt.text(u3[0] + 0.1, u3[1], r\"$\\mathbf{c_2}$\", color=\"blue\")\n",
        "plt.xlabel(\"$x_1$\")\n",
        "plt.ylabel(\"$x_2$\", rotation=0)\n",
        "plt.axis([-1.4, 1.4, -1.4, 1.4])\n",
        "plt.grid()\n",
        "\n",
        "plt.subplot2grid((3, 2), (0, 1))\n",
        "plt.plot([-2, 2], [0, 0], \"k-\", linewidth=2)\n",
        "plt.plot(X_proj1[:, 0], np.zeros(m), \"ro\", alpha=0.3)\n",
        "plt.gca().get_yaxis().set_ticks([])\n",
        "plt.gca().get_xaxis().set_ticklabels([])\n",
        "plt.axis([-2, 2, -1, 1])\n",
        "plt.grid()\n",
        "\n",
        "plt.subplot2grid((3, 2), (1, 1))\n",
        "plt.plot([-2, 2], [0, 0], \"k--\", linewidth=2)\n",
        "plt.plot(X_proj2[:, 0], np.zeros(m), \"ro\", alpha=0.3)\n",
        "plt.gca().get_yaxis().set_ticks([])\n",
        "plt.gca().get_xaxis().set_ticklabels([])\n",
        "plt.axis([-2, 2, -1, 1])\n",
        "plt.grid()\n",
        "\n",
        "plt.subplot2grid((3, 2), (2, 1))\n",
        "plt.plot([-2, 2], [0, 0], \"k:\", linewidth=2)\n",
        "plt.plot(X_proj3[:, 0], np.zeros(m), \"ro\", alpha=0.3)\n",
        "plt.gca().get_yaxis().set_ticks([])\n",
        "plt.axis([-2, 2, -1, 1])\n",
        "plt.xlabel(\"$z_1$\")\n",
        "plt.grid()\n",
        "\n",
        "save_fig(\"pca_best_projection_plot\")\n",
        "plt.show()"
      ]
    },
    {
      "cell_type": "markdown",
      "metadata": {
        "id": "RN4SrcB0ZPsT"
      },
      "source": [
        "## 8.3.2 Principal Components"
      ]
    },
    {
      "cell_type": "code",
      "execution_count": 13,
      "metadata": {
        "id": "jKdOIQe_ZPsT"
      },
      "outputs": [],
      "source": [
        "# 슬라이드 51\n",
        "import numpy as np\n",
        "\n",
        "# X = [...]  # 이 노트북의 앞부분에서 생성한 작은 3D 데이터셋\n",
        "X_centered = X - X.mean(axis=0)\n",
        "U, s, Vt = np.linalg.svd(X_centered)\n",
        "c1 = Vt[0]\n",
        "c2 = Vt[1]\n"
      ]
    },
    {
      "cell_type": "markdown",
      "metadata": {
        "id": "046rMtReZPsT"
      },
      "source": [
        "참고: 원칙적으로 SVD 인수 분해 알고리즘은 **X** = **UΣV**<sup>⊺</sup>인 세 개의 행렬 **U**, **Σ**, **V**을 반환합니다. **U**는 _m_ × _m_ 행렬, **Σ**는 _m_ × _n_ 행렬, **V**는 _n_ × _n_ 행렬입니다. 그러나 `svd()` 함수는 대신 **U**, **s** 및 **V**<sup>⊺</sup>를 반환합니다. **s**는 **Σ**의 상위 _n_ 행의 주 대각선에 있는 모든 값을 포함하는 벡터입니다. 다른 곳에서는 **Σ**가 0으로 가득 차 있기 때문에 **s**로부터 다음과 같이 쉽게 재구성할 수 있습니다:"
      ]
    },
    {
      "cell_type": "code",
      "execution_count": 14,
      "metadata": {
        "id": "cAgBNFEQZPsT"
      },
      "outputs": [],
      "source": [
        "# 추가 코드 - s에서 Σ를 구성하는 방법을 보여줍니다.\n",
        "m, n = X.shape\n",
        "Σ = np.zeros_like(X_centered)\n",
        "Σ[:n, :n] = np.diag(s)\n",
        "assert np.allclose(X_centered, U @ Σ @ Vt)"
      ]
    },
    {
      "cell_type": "markdown",
      "metadata": {
        "id": "tfZQ8qqZZPsT"
      },
      "source": [
        "## 8.3.3 d 차원으로 투영하기"
      ]
    },
    {
      "cell_type": "code",
      "execution_count": 15,
      "metadata": {
        "id": "LlsLJN5BZPsT"
      },
      "outputs": [],
      "source": [
        "W2 = Vt[:2].T\n",
        "X2D = X_centered @ W2"
      ]
    },
    {
      "cell_type": "markdown",
      "metadata": {
        "id": "DoMN_E6JZPsT"
      },
      "source": [
        "## 8.3.4 사이킷런 사용하기"
      ]
    },
    {
      "cell_type": "markdown",
      "metadata": {
        "id": "PUPPvBbQZPsT"
      },
      "source": [
        "사이킷런을 사용하면 PCA는 정말 간단합니다. 중심을 평균에 맞추는 것까지 자동으로 처리합니다:"
      ]
    },
    {
      "cell_type": "code",
      "execution_count": 16,
      "metadata": {
        "id": "RP1RpvHvZPsT"
      },
      "outputs": [],
      "source": [
        "from sklearn.decomposition import PCA\n",
        "\n",
        "pca = PCA(n_components=2)\n",
        "X2D = pca.fit_transform(X)"
      ]
    },
    {
      "cell_type": "code",
      "execution_count": null,
      "metadata": {
        "colab": {
          "base_uri": "https://localhost:8080/"
        },
        "id": "FBWfnvOIZPsT",
        "outputId": "09b63a55-1f28-4a12-cd00-4e1e403af052"
      },
      "outputs": [],
      "source": [
        "pca.components_"
      ]
    },
    {
      "cell_type": "markdown",
      "metadata": {
        "id": "JRQkLYBHZPsU"
      },
      "source": [
        "## 8.3.5 설명된 분산의 비율"
      ]
    },
    {
      "cell_type": "markdown",
      "metadata": {
        "id": "AXhkzsDPZPsU"
      },
      "source": [
        "이제 설명된 분산 비율을 살펴보겠습니다:"
      ]
    },
    {
      "cell_type": "code",
      "execution_count": null,
      "metadata": {
        "colab": {
          "base_uri": "https://localhost:8080/"
        },
        "id": "cD-ESAa0ZPsU",
        "outputId": "c6a1016c-c43a-4960-9eab-6ab79ff5ab2a"
      },
      "outputs": [],
      "source": [
        "pca.explained_variance_ratio_"
      ]
    },
    {
      "cell_type": "markdown",
      "metadata": {
        "id": "48C6acZQZPsU"
      },
      "source": [
        "첫 번째 차원은 분산의 약 76%를 설명하는 반면, 두 번째 차원은 약 15%를 설명합니다."
      ]
    },
    {
      "cell_type": "markdown",
      "metadata": {
        "id": "1lg51RuvZPsU"
      },
      "source": [
        "2D로 투영함으로써 약 9%의 분산이 감소했습니다:"
      ]
    },
    {
      "cell_type": "code",
      "execution_count": null,
      "metadata": {
        "colab": {
          "base_uri": "https://localhost:8080/"
        },
        "id": "yEDxnEmZZPsX",
        "outputId": "8ea01bf0-b60d-486a-dfed-8c9f2ca2d64a"
      },
      "outputs": [],
      "source": [
        "1 - pca.explained_variance_ratio_.sum()  # 추가 코드"
      ]
    },
    {
      "cell_type": "markdown",
      "metadata": {
        "id": "AKH_2vuwZPsY"
      },
      "source": [
        "## 8.3.6 적절한 차원 수 선택하기"
      ]
    },
    {
      "cell_type": "code",
      "execution_count": 20,
      "metadata": {
        "id": "o3Nh_VfTZPsY"
      },
      "outputs": [],
      "source": [
        "from sklearn.datasets import fetch_openml\n",
        "\n",
        "# 사이킷런 1.4버전에서 parser 매개변수 기본값이 'liac-arff'에서 'auto'로 바뀌었습니다.\n",
        "# 이전 버전에서도 동일한 결과를 내도록 명시적으로 'auto'로 지정합니다.\n",
        "mnist = fetch_openml('mnist_784', as_frame=False, parser=\"auto\")\n",
        "X_train, y_train = mnist.data[:60_000], mnist.target[:60_000]\n",
        "X_test, y_test = mnist.data[60_000:], mnist.target[60_000:]\n",
        "\n",
        "pca = PCA()\n",
        "pca.fit(X_train)\n",
        "cumsum = np.cumsum(pca.explained_variance_ratio_)\n",
        "d = np.argmax(cumsum >= 0.95) + 1  # d = 154\n"
      ]
    },
    {
      "cell_type": "code",
      "execution_count": null,
      "metadata": {
        "colab": {
          "base_uri": "https://localhost:8080/"
        },
        "id": "r-QgNNzeZPsY",
        "outputId": "95810b11-8680-4ce1-bd6e-61a6973c779c"
      },
      "outputs": [],
      "source": [
        "d"
      ]
    },
    {
      "cell_type": "code",
      "execution_count": 22,
      "metadata": {
        "id": "BM81i-1lZPsY"
      },
      "outputs": [],
      "source": [
        "pca = PCA(n_components=0.95)\n",
        "X_reduced = pca.fit_transform(X_train)"
      ]
    },
    {
      "cell_type": "code",
      "execution_count": null,
      "metadata": {
        "colab": {
          "base_uri": "https://localhost:8080/"
        },
        "id": "GKd2HctfZPsY",
        "outputId": "d98ed5eb-14b7-4630-bb69-29bbf9b5609e"
      },
      "outputs": [],
      "source": [
        "pca.n_components_"
      ]
    },
    {
      "cell_type": "code",
      "execution_count": null,
      "metadata": {
        "colab": {
          "base_uri": "https://localhost:8080/"
        },
        "id": "LCwB1Bm3ZPsY",
        "outputId": "7d3fa33c-6993-4ac2-dc88-fb6e19cfa640"
      },
      "outputs": [],
      "source": [
        "pca.explained_variance_ratio_.sum()  # 추가 코드"
      ]
    },
    {
      "cell_type": "code",
      "execution_count": null,
      "metadata": {
        "colab": {
          "base_uri": "https://localhost:8080/",
          "height": 395
        },
        "id": "yiYBwZZcZPsZ",
        "outputId": "d2358122-da4e-4e82-f63f-0d30b8f9b8c6"
      },
      "outputs": [],
      "source": [
        "# 추가 코드 - 이 셀은 그림 8-8을 생성하고 저장합니다.\n",
        "\n",
        "plt.figure(figsize=(6, 4))\n",
        "plt.plot(cumsum, linewidth=3)\n",
        "plt.axis([0, 400, 0, 1])\n",
        "plt.xlabel(\"차원 수\")\n",
        "plt.ylabel(\"설명된 분산\")\n",
        "plt.plot([d, d], [0, 0.95], \"k:\")\n",
        "plt.plot([0, d], [0.95, 0.95], \"k:\")\n",
        "plt.plot(d, 0.95, \"ko\")\n",
        "plt.annotate(\"Elbow\", xy=(65, 0.85), xytext=(70, 0.7),\n",
        "             arrowprops=dict(arrowstyle=\"->\"))\n",
        "plt.grid(True)\n",
        "save_fig(\"explained_variance_plot\")\n",
        "plt.show()"
      ]
    },
    {
      "cell_type": "code",
      "execution_count": null,
      "metadata": {
        "colab": {
          "base_uri": "https://localhost:8080/",
          "height": 152
        },
        "id": "tXUypVYaZPsZ",
        "outputId": "c1346b78-4c1c-4ed8-ea50-cd757cb36ce3"
      },
      "outputs": [],
      "source": [
        "from sklearn.ensemble import RandomForestClassifier\n",
        "from sklearn.model_selection import RandomizedSearchCV\n",
        "from sklearn.pipeline import make_pipeline\n",
        "\n",
        "clf = make_pipeline(PCA(random_state=42),\n",
        "                    RandomForestClassifier(random_state=42))\n",
        "param_distrib = {\n",
        "    \"pca__n_components\": np.arange(10, 80),\n",
        "    \"randomforestclassifier__n_estimators\": np.arange(50, 500)\n",
        "}\n",
        "rnd_search = RandomizedSearchCV(clf, param_distrib, n_iter=10, cv=3,\n",
        "                                random_state=42)\n",
        "rnd_search.fit(X_train[:1000], y_train[:1000])\n"
      ]
    },
    {
      "cell_type": "code",
      "execution_count": null,
      "metadata": {
        "colab": {
          "base_uri": "https://localhost:8080/"
        },
        "id": "VTbH-j1JZPsZ",
        "outputId": "0116c2fc-e073-43e9-c367-2e755be3e057"
      },
      "outputs": [],
      "source": [
        "print(rnd_search.best_params_)"
      ]
    },
    {
      "cell_type": "code",
      "execution_count": null,
      "metadata": {
        "colab": {
          "base_uri": "https://localhost:8080/",
          "height": 152
        },
        "id": "1qjRhrMrZPsZ",
        "outputId": "95ed6e01-7c87-4802-8c6c-fa877455eed8"
      },
      "outputs": [],
      "source": [
        "from sklearn.linear_model import SGDClassifier\n",
        "from sklearn.model_selection import GridSearchCV\n",
        "\n",
        "clf = make_pipeline(PCA(random_state=42), SGDClassifier())\n",
        "param_grid = {\"pca__n_components\": np.arange(10, 80)}\n",
        "grid_search = GridSearchCV(clf, param_grid, cv=3)\n",
        "grid_search.fit(X_train[:1000], y_train[:1000])"
      ]
    },
    {
      "cell_type": "code",
      "execution_count": null,
      "metadata": {
        "colab": {
          "base_uri": "https://localhost:8080/"
        },
        "id": "QVtMHLlAZPsZ",
        "outputId": "adeadf42-9dde-42c9-896f-45333c01f8e5"
      },
      "outputs": [],
      "source": [
        "grid_search.best_params_"
      ]
    },
    {
      "cell_type": "markdown",
      "metadata": {
        "id": "7KiA8bw_ZPsZ"
      },
      "source": [
        "## 8.3.7 압축을 위한 PCA"
      ]
    },
    {
      "cell_type": "code",
      "execution_count": 30,
      "metadata": {
        "id": "KqZXMF9ZZPsZ"
      },
      "outputs": [],
      "source": [
        "pca = PCA(0.95)\n",
        "X_reduced = pca.fit_transform(X_train, y_train)"
      ]
    },
    {
      "cell_type": "code",
      "execution_count": 31,
      "metadata": {
        "id": "nj_lGpMoZPsa"
      },
      "outputs": [],
      "source": [
        "X_recovered = pca.inverse_transform(X_reduced)"
      ]
    },
    {
      "cell_type": "code",
      "execution_count": null,
      "metadata": {
        "colab": {
          "base_uri": "https://localhost:8080/",
          "height": 378
        },
        "id": "GVRHkMC4ZPsa",
        "outputId": "8e74b821-bd1a-4d21-dad4-c69260122178"
      },
      "outputs": [],
      "source": [
        "# extra code – this cell generates and saves Figure 8–9\n",
        "\n",
        "plt.figure(figsize=(7, 4))\n",
        "for idx, X in enumerate((X_train[::2100], X_recovered[::2100])):\n",
        "    plt.subplot(1, 2, idx + 1)\n",
        "    plt.title([\"Original\", \"Compressed\"][idx])\n",
        "    for row in range(5):\n",
        "        for col in range(5):\n",
        "            plt.imshow(X[row * 5 + col].reshape(28, 28), cmap=\"binary\",\n",
        "                       vmin=0, vmax=255, extent=(row, row + 1, col, col + 1))\n",
        "            plt.axis([0, 5, 0, 5])\n",
        "            plt.axis(\"off\")\n",
        "\n",
        "save_fig(\"mnist_compression_plot\")"
      ]
    },
    {
      "cell_type": "markdown",
      "metadata": {
        "id": "UBzSSN2kZPsa"
      },
      "source": [
        "## 8.3.8 랜덤 PCA"
      ]
    },
    {
      "cell_type": "code",
      "execution_count": 33,
      "metadata": {
        "id": "Z0_QWbtPZPsa"
      },
      "outputs": [],
      "source": [
        "rnd_pca = PCA(n_components=154, svd_solver=\"randomized\", random_state=42)\n",
        "X_reduced = rnd_pca.fit_transform(X_train)"
      ]
    },
    {
      "cell_type": "markdown",
      "metadata": {
        "id": "ZADRmTtvZPsa"
      },
      "source": [
        "## 8.3.9 점진적 PCA"
      ]
    },
    {
      "cell_type": "code",
      "execution_count": 34,
      "metadata": {
        "id": "p3BWGackZPsa"
      },
      "outputs": [],
      "source": [
        "from sklearn.decomposition import IncrementalPCA\n",
        "\n",
        "n_batches = 100\n",
        "inc_pca = IncrementalPCA(n_components=154)\n",
        "for X_batch in np.array_split(X_train, n_batches):\n",
        "    inc_pca.partial_fit(X_batch)\n",
        "\n",
        "X_reduced = inc_pca.transform(X_train)\n"
      ]
    },
    {
      "cell_type": "markdown",
      "metadata": {
        "id": "KITrW_NKZPsa"
      },
      "source": [
        "**넘파이 `memmap` 클래스 사용 – 디스크의 이진 파일에 저장된 배열에 메모리 매핑하기**"
      ]
    },
    {
      "cell_type": "markdown",
      "metadata": {
        "id": "VJj1b0rAZPsa"
      },
      "source": [
        "`memmap` 인스턴스를 생성하고, MNIST 훈련 세트를 복사한 다음, `flush()`를 호출하여 캐시에 남아 있는 모든 데이터를 디스크에 저장해 보겠습니다. 이 작업은 일반적으로 첫 번째 프로그램에서 수행합니다:"
      ]
    },
    {
      "cell_type": "code",
      "execution_count": 35,
      "metadata": {
        "id": "X2yGbQFWZPsa"
      },
      "outputs": [],
      "source": [
        "filename = \"my_mnist.mmap\"\n",
        "X_mmap = np.memmap(filename, dtype='float32', mode='write', shape=X_train.shape)\n",
        "X_mmap[:] = X_train  # 대신 루프를 사용하여 데이터를 청크 단위로 저장할 수 있습니다.\n",
        "X_mmap.flush()\n"
      ]
    },
    {
      "cell_type": "markdown",
      "metadata": {
        "id": "SchapbcEZPsb"
      },
      "source": [
        "그런 다음 다른 프로그램이 데이터를 로드하여 학습에 사용합니다:"
      ]
    },
    {
      "cell_type": "code",
      "execution_count": null,
      "metadata": {
        "colab": {
          "base_uri": "https://localhost:8080/",
          "height": 75
        },
        "id": "9hO_c1NlZPsb",
        "outputId": "573ab89c-f01c-4ac8-8b15-d7d462e12cac"
      },
      "outputs": [],
      "source": [
        "X_mmap = np.memmap(filename, dtype=\"float32\", mode=\"readonly\").reshape(-1, 784)\n",
        "batch_size = X_mmap.shape[0] // n_batches\n",
        "inc_pca = IncrementalPCA(n_components=154, batch_size=batch_size)\n",
        "inc_pca.fit(X_mmap)"
      ]
    },
    {
      "cell_type": "markdown",
      "metadata": {
        "id": "u-1JhXPmZPsb"
      },
      "source": [
        "# 8.4 랜덤 투영"
      ]
    },
    {
      "cell_type": "markdown",
      "metadata": {
        "id": "n4nzxaSpZPsb"
      },
      "source": [
        "**경고**: 이 섹션에서는 약 2.5GB의 RAM을 사용합니다. 컴퓨터 메모리가 부족하면 _m_과 _n_을 줄이세요:"
      ]
    },
    {
      "cell_type": "code",
      "execution_count": null,
      "metadata": {
        "colab": {
          "base_uri": "https://localhost:8080/"
        },
        "id": "zB-nS3aQZPsb",
        "outputId": "a4fde763-8c53-472d-b338-472b909abf8f"
      },
      "outputs": [],
      "source": [
        "from sklearn.random_projection import johnson_lindenstrauss_min_dim\n",
        "\n",
        "m, ε = 5_000, 0.1\n",
        "d = johnson_lindenstrauss_min_dim(m, eps=ε)\n",
        "d"
      ]
    },
    {
      "cell_type": "code",
      "execution_count": null,
      "metadata": {
        "colab": {
          "base_uri": "https://localhost:8080/"
        },
        "id": "uiPaZs5BZPsb",
        "outputId": "141faa97-bd61-40ea-8444-ab6ac0f525c8"
      },
      "outputs": [],
      "source": [
        "# 추가 코드 - johnson_lindenstrauss_min_dim으로 계산한 방정식\n",
        "d = int(4 * np.log(m) / (ε ** 2 / 2 - ε ** 3 / 3))\n",
        "d"
      ]
    },
    {
      "cell_type": "code",
      "execution_count": 39,
      "metadata": {
        "id": "kDX4NfdBZPsb"
      },
      "outputs": [],
      "source": [
        "n = 20_000\n",
        "np.random.seed(42)\n",
        "P = np.random.randn(d, n) / np.sqrt(d)  # 표준 편차 = 분산의 제곱근\n",
        "\n",
        "X = np.random.randn(m, n)  # 가짜 데이터셋 생성\n",
        "X_reduced = X @ P.T\n"
      ]
    },
    {
      "cell_type": "code",
      "execution_count": 40,
      "metadata": {
        "id": "x9Ddg97XZPsb"
      },
      "outputs": [],
      "source": [
        "from sklearn.random_projection import GaussianRandomProjection\n",
        "\n",
        "gaussian_rnd_proj = GaussianRandomProjection(eps=ε, random_state=42)\n",
        "X_reduced = gaussian_rnd_proj.fit_transform(X)  # 위와 동일한 결과"
      ]
    },
    {
      "cell_type": "markdown",
      "metadata": {
        "id": "4aS5_-7cZPsb"
      },
      "source": [
        "**경고**, 다음 셀을 실행하는 데 몇 분 정도 걸릴 수 있습니다:"
      ]
    },
    {
      "cell_type": "code",
      "execution_count": 41,
      "metadata": {
        "id": "5MGmkehJZPsc"
      },
      "outputs": [],
      "source": [
        "components_pinv = np.linalg.pinv(gaussian_rnd_proj.components_)\n",
        "X_recovered = X_reduced @ components_pinv.T"
      ]
    },
    {
      "cell_type": "code",
      "execution_count": null,
      "metadata": {
        "colab": {
          "base_uri": "https://localhost:8080/"
        },
        "id": "rXhevJl7ZPsc",
        "outputId": "0a1943d4-10da-4b8b-815c-fa4e9f0cae87"
      },
      "outputs": [],
      "source": [
        "# 추가 코드 – Gaussian과 Sparse RP 사이의 성능 비교\n",
        "\n",
        "from sklearn.random_projection import SparseRandomProjection\n",
        "\n",
        "print(\"GaussianRandomProjection fit\")\n",
        "%timeit GaussianRandomProjection(random_state=42).fit(X)\n",
        "print(\"SparseRandomProjection fit\")\n",
        "%timeit SparseRandomProjection(random_state=42).fit(X)\n",
        "\n",
        "gaussian_rnd_proj = GaussianRandomProjection(random_state=42).fit(X)\n",
        "sparse_rnd_proj = SparseRandomProjection(random_state=42).fit(X)\n",
        "print(\"GaussianRandomProjection transform\")\n",
        "%timeit gaussian_rnd_proj.transform(X)\n",
        "print(\"SparseRandomProjection transform\")\n",
        "%timeit sparse_rnd_proj.transform(X)"
      ]
    },
    {
      "cell_type": "markdown",
      "metadata": {
        "id": "2GZYf18eZPsc"
      },
      "source": [
        "# 8.5 LLE (Locally Linear Embedding) - 지역 선형 임베딩"
      ]
    },
    {
      "cell_type": "code",
      "execution_count": 43,
      "metadata": {
        "id": "BdCGh79DZPsc"
      },
      "outputs": [],
      "source": [
        "from sklearn.datasets import make_swiss_roll\n",
        "from sklearn.manifold import LocallyLinearEmbedding\n",
        "\n",
        "X_swiss, t = make_swiss_roll(n_samples=1000, noise=0.2, random_state=42)\n",
        "lle = LocallyLinearEmbedding(n_components=2, n_neighbors=10, random_state=42)\n",
        "X_unrolled = lle.fit_transform(X_swiss)\n"
      ]
    },
    {
      "cell_type": "code",
      "execution_count": null,
      "metadata": {
        "colab": {
          "base_uri": "https://localhost:8080/",
          "height": 498
        },
        "id": "i4V5V32MZPsc",
        "outputId": "e3e35a9b-f7c1-44bd-aaa0-3b8235a55f03"
      },
      "outputs": [],
      "source": [
        "# 추가 코드 - 이 셀은 그림 8-10을 생성하고 저장합니다.\n",
        "\n",
        "plt.scatter(X_unrolled[:, 0], X_unrolled[:, 1],\n",
        "            c=t, cmap=darker_hot)\n",
        "plt.xlabel(\"$z_1$\")\n",
        "plt.ylabel(\"$z_2$\", rotation=0)\n",
        "plt.axis([-0.055, 0.060, -0.070, 0.090])\n",
        "plt.grid(True)\n",
        "\n",
        "save_fig(\"lle_unrolling_plot\")\n",
        "plt.title(\"LLE를 사용하여 펼쳐진 스위스 롤\")\n",
        "plt.show()"
      ]
    },
    {
      "cell_type": "code",
      "execution_count": null,
      "metadata": {
        "colab": {
          "base_uri": "https://localhost:8080/",
          "height": 480
        },
        "id": "E75Alp7vZPsc",
        "outputId": "0217c77b-454a-44f5-af33-decbf55741b5"
      },
      "outputs": [],
      "source": [
        "# 추가 코드 - z1이 t와 얼마나 잘 연관되어 있는지 보여줍니다: LLE가 잘 작동했습니다.\n",
        "plt.title(\"$z_1$ vs $t$\")\n",
        "plt.scatter(X_unrolled[:, 0], t, c=t, cmap=darker_hot)\n",
        "plt.xlabel(\"$z_1$\")\n",
        "plt.ylabel(\"$t$\", rotation=0)\n",
        "plt.grid(True)\n",
        "plt.show()"
      ]
    },
    {
      "cell_type": "code",
      "execution_count": 46,
      "metadata": {
        "id": "K_8_5cTfZPsc"
      },
      "outputs": [],
      "source": [
        "from sklearn.manifold import MDS\n",
        "\n",
        "# 사이킷런 1.4버전에서 normalized_stress 매개변수의 기본값이 False에서 \"auto\"로 변경됩니다.\n",
        "# 동일한 결과를 유지하도록 명시적으로 False로 지정합니다.\n",
        "mds = MDS(n_components=2, normalized_stress=False, random_state=42)\n",
        "X_reduced_mds = mds.fit_transform(X_swiss)"
      ]
    },
    {
      "cell_type": "code",
      "execution_count": 47,
      "metadata": {
        "id": "eW7-CDUHZPsd"
      },
      "outputs": [],
      "source": [
        "from sklearn.manifold import Isomap\n",
        "\n",
        "isomap = Isomap(n_components=2)\n",
        "X_reduced_isomap = isomap.fit_transform(X_swiss)"
      ]
    },
    {
      "cell_type": "code",
      "execution_count": 48,
      "metadata": {
        "id": "T2fCBSoPZPsd"
      },
      "outputs": [],
      "source": [
        "from sklearn.manifold import TSNE\n",
        "\n",
        "tsne = TSNE(n_components=2, init=\"random\", learning_rate=\"auto\",\n",
        "            random_state=42)\n",
        "X_reduced_tsne = tsne.fit_transform(X_swiss)"
      ]
    },
    {
      "cell_type": "code",
      "execution_count": null,
      "metadata": {
        "colab": {
          "base_uri": "https://localhost:8080/",
          "height": 395
        },
        "id": "xGjG2TX1ZPsd",
        "outputId": "ecefef85-abfc-4e87-cf3c-221eac98ffae"
      },
      "outputs": [],
      "source": [
        "# 추가 코드 - 이 셀은 그림 8-11을 생성하고 저장합니다.\n",
        "\n",
        "titles = [\"MDS\", \"Isomap\", \"t-SNE\"]\n",
        "\n",
        "plt.figure(figsize=(11, 4))\n",
        "\n",
        "for subplot, title, X_reduced in zip((131, 132, 133), titles,\n",
        "                                     (X_reduced_mds, X_reduced_isomap, X_reduced_tsne)):\n",
        "    plt.subplot(subplot)\n",
        "    plt.title(title)\n",
        "    plt.scatter(X_reduced[:, 0], X_reduced[:, 1], c=t, cmap=darker_hot)\n",
        "    plt.xlabel(\"$z_1$\")\n",
        "    if subplot == 131:\n",
        "        plt.ylabel(\"$z_2$\", rotation=0)\n",
        "    plt.grid(True)\n",
        "\n",
        "save_fig(\"other_dim_reduction_plot\")\n",
        "plt.show()"
      ]
    },
    {
      "cell_type": "markdown",
      "metadata": {
        "id": "4RGII9yaZPsd"
      },
      "source": [
        "# 추가 자료 – Kernel PCA"
      ]
    },
    {
      "cell_type": "code",
      "execution_count": 50,
      "metadata": {
        "id": "3W5-1MUqZPsd"
      },
      "outputs": [],
      "source": [
        "from sklearn.decomposition import KernelPCA\n",
        "\n",
        "rbf_pca = KernelPCA(n_components=2, kernel=\"rbf\", gamma=0.04, random_state=42)\n",
        "X_reduced = rbf_pca.fit_transform(X_swiss)"
      ]
    },
    {
      "cell_type": "code",
      "execution_count": null,
      "metadata": {
        "colab": {
          "base_uri": "https://localhost:8080/",
          "height": 382
        },
        "id": "RZLAcCMIZPsd",
        "outputId": "9e8e6a72-c4a1-4fe2-b2f6-ca6903399e3e"
      },
      "outputs": [],
      "source": [
        "lin_pca = KernelPCA(kernel=\"linear\")\n",
        "rbf_pca = KernelPCA(kernel=\"rbf\", gamma=0.002)\n",
        "sig_pca = KernelPCA(kernel=\"sigmoid\", gamma=0.002, coef0=1)\n",
        "\n",
        "kernel_pcas = ((lin_pca, \"선형 커널\"),\n",
        "               (rbf_pca, rf\"RBF 커널, $\\gamma={rbf_pca.gamma}$\"),\n",
        "               (sig_pca, rf\"시그모이드 kernel, $\\gamma={sig_pca.gamma}, r={sig_pca.coef0}$\"))\n",
        "\n",
        "plt.figure(figsize=(11, 3.5))\n",
        "for idx, (kpca, title) in enumerate(kernel_pcas):\n",
        "    kpca.n_components = 2\n",
        "    kpca.random_state = 42\n",
        "    X_reduced = kpca.fit_transform(X_swiss)\n",
        "\n",
        "    plt.subplot(1, 3, idx + 1)\n",
        "    plt.title(title)\n",
        "    plt.scatter(X_reduced[:, 0], X_reduced[:, 1], c=t, cmap=darker_hot)\n",
        "    plt.xlabel(\"$z_1$\")\n",
        "    if idx == 0:\n",
        "        plt.ylabel(\"$z_2$\", rotation=0)\n",
        "    plt.grid()\n",
        "\n",
        "plt.show()"
      ]
    },
    {
      "cell_type": "markdown",
      "metadata": {
        "id": "VhzT75XYZPsd"
      },
      "source": [
        "# 연습문제 해답"
      ]
    },
    {
      "cell_type": "markdown",
      "metadata": {
        "id": "wbafWKN_ZPsd"
      },
      "source": [
        "## 1. to 8."
      ]
    },
    {
      "cell_type": "markdown",
      "metadata": {
        "id": "PfrBi5NQZPsd"
      },
      "source": [
        "부록 A 참조"
      ]
    },
    {
      "cell_type": "markdown",
      "metadata": {
        "id": "yUUzUbBRZPse"
      },
      "source": [
        "## 9."
      ]
    },
    {
      "cell_type": "markdown",
      "metadata": {
        "id": "-5GKU9slZPse"
      },
      "source": [
        "문제: _(3장에서 소개한) MNIST 데이터셋을 로드하고 훈련 세트와 테스트 세트로 분할합니다(처음 60,000개는 훈련을 위한 샘플이고 나머지 10,000개는 테스트용입니다)._"
      ]
    },
    {
      "cell_type": "markdown",
      "metadata": {
        "id": "Z8QDcZKLZPse"
      },
      "source": [
        "MNIST 데이터 세트는 이전에 로드되었습니다."
      ]
    },
    {
      "cell_type": "code",
      "execution_count": 52,
      "metadata": {
        "id": "NuKkBSK_ZPse"
      },
      "outputs": [],
      "source": [
        "X_train = mnist.data[:60000]\n",
        "y_train = mnist.target[:60000]\n",
        "\n",
        "X_test = mnist.data[60000:]\n",
        "y_test = mnist.target[60000:]"
      ]
    },
    {
      "cell_type": "markdown",
      "metadata": {
        "id": "F5_rPk7qZPse"
      },
      "source": [
        "문제: _이 데이터셋에 랜덤 포레스트 분류기를 훈련시키고 얼마나 오래 걸리는지 시간을 잰 다음, 테스트 세트로 만들어진 모델을 평가합니다._"
      ]
    },
    {
      "cell_type": "code",
      "execution_count": 53,
      "metadata": {
        "id": "TwLPfhz7ZPse"
      },
      "outputs": [],
      "source": [
        "rnd_clf = RandomForestClassifier(n_estimators=100, random_state=42)"
      ]
    },
    {
      "cell_type": "code",
      "execution_count": null,
      "metadata": {
        "colab": {
          "base_uri": "https://localhost:8080/",
          "height": 110
        },
        "id": "iqqd5PUgZPse",
        "outputId": "b2348b58-4211-4f92-fb2d-2bbcd2a564a3"
      },
      "outputs": [],
      "source": [
        "%time rnd_clf.fit(X_train, y_train)"
      ]
    },
    {
      "cell_type": "code",
      "execution_count": null,
      "metadata": {
        "colab": {
          "base_uri": "https://localhost:8080/"
        },
        "id": "JAlaAD9UZPse",
        "outputId": "8ea5a099-b594-46d8-cf49-450a4504967c"
      },
      "outputs": [],
      "source": [
        "from sklearn.metrics import accuracy_score\n",
        "\n",
        "y_pred = rnd_clf.predict(X_test)\n",
        "accuracy_score(y_test, y_pred)"
      ]
    },
    {
      "cell_type": "markdown",
      "metadata": {
        "id": "i0gukxSrZPse"
      },
      "source": [
        "문제: _그런 다음 PCA를 사용해 설명된 분산이 95%가 되도록 차원을 축소합니다._"
      ]
    },
    {
      "cell_type": "code",
      "execution_count": 56,
      "metadata": {
        "id": "4lgj9m3dZPse"
      },
      "outputs": [],
      "source": [
        "from sklearn.decomposition import PCA\n",
        "\n",
        "pca = PCA(n_components=0.95)\n",
        "X_train_reduced = pca.fit_transform(X_train)"
      ]
    },
    {
      "cell_type": "markdown",
      "metadata": {
        "id": "EA62ycdzZPsf"
      },
      "source": [
        "문제: _이 축소된 데이터셋에 새로운 랜덤 포레스트 분류기를 훈련시키고 얼마나 오래 걸리는지 확인합니다. 훈련 속도가 더 빨라졌나요?_"
      ]
    },
    {
      "cell_type": "code",
      "execution_count": null,
      "metadata": {
        "colab": {
          "base_uri": "https://localhost:8080/",
          "height": 110
        },
        "id": "opO8EKtuZPsf",
        "outputId": "f6feab01-0344-4d88-fd47-dc9fdadf1514"
      },
      "outputs": [],
      "source": [
        "rnd_clf_with_pca = RandomForestClassifier(n_estimators=100, random_state=42)\n",
        "%time rnd_clf_with_pca.fit(X_train_reduced, y_train)"
      ]
    },
    {
      "cell_type": "markdown",
      "metadata": {
        "id": "52eSuGvGZPsf"
      },
      "source": [
        "훈련이 실제로 두 배 정도 느려졌습니다! 어떻게 그럴 수 있을까요? 이 장에서 살펴본 것처럼 차원 축소가 항상 훈련 시간 단축으로 이어지는 것은 아니며 데이터셋, 모델 및 훈련 알고리즘에 따라 달라집니다. 그림 8-6(위의 `manifold_decision_boundary_plot*` 플롯)을 참조하세요. `RandomForestClassifier` 대신 `SGDClassifier`를 사용해 보면, PCA를 사용할 때 훈련 시간이 3배 정도 단축되는 것을 알 수 있습니다. 사실 이 작업은 잠시 후에 하겠지만, 먼저 새로운 랜덤 포레스트 분류기의 정밀도를 확인해 보겠습니다."
      ]
    },
    {
      "cell_type": "markdown",
      "metadata": {
        "id": "gWC-0E00ZPsf"
      },
      "source": [
        "문제: _이제 테스트 세트에서 이 분류기를 평가해보세요. 이전 분류기와 비교해서 어떤가요?_"
      ]
    },
    {
      "cell_type": "code",
      "execution_count": null,
      "metadata": {
        "colab": {
          "base_uri": "https://localhost:8080/"
        },
        "id": "SLTnLrO1ZPsf",
        "outputId": "3856f280-9c52-4400-af42-4d70d4b5c1c7"
      },
      "outputs": [],
      "source": [
        "X_test_reduced = pca.transform(X_test)\n",
        "\n",
        "y_pred = rnd_clf_with_pca.predict(X_test_reduced)\n",
        "accuracy_score(y_test, y_pred)"
      ]
    },
    {
      "cell_type": "markdown",
      "metadata": {
        "id": "G400xwR5ZPsf"
      },
      "source": [
        "차원을 줄일 때 잠재적으로 유용한 신호가 일부 손실되기 때문에 성능이 약간 저하되는 것이 일반적입니다. 그러나 이 경우에는 성능 저하가 다소 심각합니다. 따라서 PCA는 학습 속도를 늦추고 성능을 저하시키는 등 실제로 도움이 되지 않았습니다. 😭"
      ]
    },
    {
      "cell_type": "markdown",
      "metadata": {
        "id": "XlpZwIGsZPsf"
      },
      "source": [
        "문제: _`SGDClassifier`로 다시 시도해 보세요. PCA가 얼마나 도움이 되나요?_"
      ]
    },
    {
      "cell_type": "code",
      "execution_count": null,
      "metadata": {
        "colab": {
          "base_uri": "https://localhost:8080/",
          "height": 110
        },
        "id": "Bwue6rrsZPsf",
        "outputId": "85770572-2c80-4e10-e550-7a13718d9758"
      },
      "outputs": [],
      "source": [
        "from sklearn.linear_model import SGDClassifier\n",
        "\n",
        "sgd_clf = SGDClassifier(random_state=42)\n",
        "%time sgd_clf.fit(X_train, y_train)"
      ]
    },
    {
      "cell_type": "code",
      "execution_count": null,
      "metadata": {
        "colab": {
          "base_uri": "https://localhost:8080/"
        },
        "id": "JGhrlImRZPsg",
        "outputId": "b377716d-0de1-4585-a839-6bb54b5d151b"
      },
      "outputs": [],
      "source": [
        "y_pred = sgd_clf.predict(X_test)\n",
        "accuracy_score(y_test, y_pred)"
      ]
    },
    {
      "cell_type": "markdown",
      "metadata": {
        "id": "cRvh5NCnZPsg"
      },
      "source": [
        "좋아, `SGDClassifier`는 이 데이터셋에서 `RandomForestClassifier`보다 훈련하는 데 훨씬 더 오래 걸리고 테스트 세트에서 성능이 더 나쁩니다. 하지만 지금 우리가 관심 있는 것은 그런 것이 아니라 PCA가 `SGDClassifier`에 얼마나 도움이 될 수 있는지 보고 싶습니다. 축소된 데이터 세트를 사용하여 훈련해 봅시다:"
      ]
    },
    {
      "cell_type": "code",
      "execution_count": null,
      "metadata": {
        "colab": {
          "base_uri": "https://localhost:8080/",
          "height": 110
        },
        "id": "RFOb3KzdZPsg",
        "outputId": "fb4010a3-0de8-490e-fc66-b041a3d95db5"
      },
      "outputs": [],
      "source": [
        "sgd_clf_with_pca = SGDClassifier(random_state=42)\n",
        "%time sgd_clf_with_pca.fit(X_train_reduced, y_train)"
      ]
    },
    {
      "cell_type": "markdown",
      "metadata": {
        "id": "UXsbG_mFZPsg"
      },
      "source": [
        "멋지네요! 차원을 줄이면 속도가 약 5배 빨라졌습니다. :)  모델의 정확도를 확인해 봅시다:"
      ]
    },
    {
      "cell_type": "code",
      "execution_count": null,
      "metadata": {
        "colab": {
          "base_uri": "https://localhost:8080/"
        },
        "id": "bAEr7SCAZPsg",
        "outputId": "ef7d9059-6cc3-47a9-a177-900a8f07245b"
      },
      "outputs": [],
      "source": [
        "y_pred = sgd_clf_with_pca.predict(X_test_reduced)\n",
        "accuracy_score(y_test, y_pred)"
      ]
    },
    {
      "cell_type": "markdown",
      "metadata": {
        "id": "C6YZvI4PZPsg"
      },
      "source": [
        "훌륭합니다! PCA는 속도를 5배 향상시켰을 뿐만 아니라 성능도 약간 개선했습니다."
      ]
    },
    {
      "cell_type": "markdown",
      "metadata": {
        "id": "dV3Zohh5ZPsg"
      },
      "source": [
        "여기까지입니다: PCA는 엄청난 속도 향상과 운이 좋으면 성능 향상을 가져올 수 있습니다.... 하지만 보장되지는 않습니다. 모델과 데이터 세트에 따라 다릅니다!"
      ]
    },
    {
      "cell_type": "markdown",
      "metadata": {
        "id": "PS7RQ_QkZPsg"
      },
      "source": [
        "## 10."
      ]
    },
    {
      "cell_type": "markdown",
      "metadata": {
        "id": "ucKR30I1ZPsg"
      },
      "source": [
        "문제: _t-SNE 알고리즘을 사용해 MNIST 데이터셋의 처음 5,000개 이미지를 2차원으로 축소시키고 맷플롯립으로 그래프를 그려보세요. 이미지의 타깃 클래스마다 10가지 색상으로 나타낸 산점도를 그릴 수 있습니다._"
      ]
    },
    {
      "cell_type": "markdown",
      "metadata": {
        "id": "UZhICswDZPsh"
      },
      "source": [
        "작업 속도를 높이기 위해 MNIST 훈련 세트의 첫 5,000개 이미지로 제한해 보겠습니다."
      ]
    },
    {
      "cell_type": "code",
      "execution_count": 63,
      "metadata": {
        "id": "zSXuE4sPZPsh"
      },
      "outputs": [],
      "source": [
        "X_sample, y_sample = X_train[:5000], y_train[:5000]"
      ]
    },
    {
      "cell_type": "markdown",
      "metadata": {
        "id": "cS2Y96GoZPsh"
      },
      "source": [
        "데이터 집합을 그래프로 그릴 수 있도록 t-SNE를 사용하여 차원을 2D로 줄여 보겠습니다:"
      ]
    },
    {
      "cell_type": "code",
      "execution_count": null,
      "metadata": {
        "colab": {
          "base_uri": "https://localhost:8080/"
        },
        "id": "R0_8Wg3kZPsh",
        "outputId": "fe29d81b-5573-4286-dd51-3c219f9aa7a7"
      },
      "outputs": [],
      "source": [
        "from sklearn.manifold import TSNE\n",
        "\n",
        "tsne = TSNE(n_components=2, init=\"random\", learning_rate=\"auto\",\n",
        "            random_state=42)\n",
        "%time X_reduced = tsne.fit_transform(X_sample)"
      ]
    },
    {
      "cell_type": "markdown",
      "metadata": {
        "id": "G7mAJI4ZZPsh"
      },
      "source": [
        "이제 Matplotlib의 `scatter()` 함수를 사용하여 각 숫자에 대해 다른 색상을 사용하여 산점도를 그려 보겠습니다:"
      ]
    },
    {
      "cell_type": "code",
      "execution_count": null,
      "metadata": {
        "colab": {
          "base_uri": "https://localhost:8080/",
          "height": 820
        },
        "id": "RZ_aS4rbZPsh",
        "outputId": "7f5067f7-8197-46b6-f86d-675cce173e4b"
      },
      "outputs": [],
      "source": [
        "plt.figure(figsize=(13, 10))\n",
        "plt.scatter(X_reduced[:, 0], X_reduced[:, 1],\n",
        "            c=y_sample.astype(np.int8), cmap=\"jet\", alpha=0.5)\n",
        "plt.axis('off')\n",
        "plt.colorbar()\n",
        "plt.show()"
      ]
    },
    {
      "cell_type": "markdown",
      "metadata": {
        "id": "Sk_XVUYVZPsh"
      },
      "source": [
        "정말 아름답지 않나요? :) t-SNE에 타깃이 주어지지 않았음에도 불구하고 대부분의 숫자가 다른 숫자와 잘 분리되어 있습니다. 유사한 이미지의 클러스터를 식별했습니다. 하지만 여전히 약간 겹치는 부분이 있습니다. 예를 들어, 3과 5가 많이 겹치고(그래프의 오른쪽) 4와 9도 겹칩니다(오른쪽 상단 모서리)."
      ]
    },
    {
      "cell_type": "markdown",
      "metadata": {
        "id": "xVprhMFVZPsh"
      },
      "source": [
        "숫자 4와 9에만 집중해 보겠습니다:"
      ]
    },
    {
      "cell_type": "code",
      "execution_count": null,
      "metadata": {
        "colab": {
          "base_uri": "https://localhost:8080/",
          "height": 730
        },
        "id": "-h1K0UwoZPsh",
        "outputId": "469b58ae-51b6-461c-ddd7-3d66a61dc2ee"
      },
      "outputs": [],
      "source": [
        "plt.figure(figsize=(9, 9))\n",
        "cmap = plt.cm.jet\n",
        "for digit in ('4', '9'):\n",
        "    plt.scatter(X_reduced[y_sample == digit, 0], X_reduced[y_sample == digit, 1],\n",
        "                c=[cmap(float(digit) / 9)], alpha=0.5)\n",
        "plt.axis('off')\n",
        "plt.show()"
      ]
    },
    {
      "cell_type": "markdown",
      "metadata": {
        "id": "ZqXN7PHDZPsi"
      },
      "source": [
        "이 두 개의 숫자만으로 t-SNE를 실행하여 더 멋진 이미지를 만들 수 있는지 확인해 보겠습니다:"
      ]
    },
    {
      "cell_type": "code",
      "execution_count": 67,
      "metadata": {
        "id": "jvqXhEOtZPsi"
      },
      "outputs": [],
      "source": [
        "idx = (y_sample == '4') | (y_sample == '9')\n",
        "X_subset = X_sample[idx]\n",
        "y_subset = y_sample[idx]\n",
        "\n",
        "tsne_subset = TSNE(n_components=2, init=\"random\", learning_rate=\"auto\",\n",
        "                   random_state=42)\n",
        "X_subset_reduced = tsne_subset.fit_transform(X_subset)"
      ]
    },
    {
      "cell_type": "code",
      "execution_count": null,
      "metadata": {
        "colab": {
          "base_uri": "https://localhost:8080/",
          "height": 730
        },
        "id": "h3UOxysEZPsi",
        "outputId": "b407caa2-6c08-434f-c43f-fd23a9fd22cd"
      },
      "outputs": [],
      "source": [
        "plt.figure(figsize=(9, 9))\n",
        "for digit in ('4', '9'):\n",
        "    plt.scatter(X_subset_reduced[y_subset == digit, 0],\n",
        "                X_subset_reduced[y_subset == digit, 1],\n",
        "                c=[cmap(float(digit) / 9)], alpha=0.5)\n",
        "plt.axis('off')\n",
        "plt.show()"
      ]
    },
    {
      "cell_type": "markdown",
      "metadata": {
        "id": "Swt3S3MPZPsi"
      },
      "source": [
        "여전히 약간 겹치기는 하지만 훨씬 나아졌습니다. 4가 9처럼 보이거나 그 반대의 경우도 있을 수 있습니다. 이 그래프의 각 영역에서 몇 개의 숫자를 시각화하여 무슨 일이 일어나고 있는지 이해할 수 있다면 좋을 것입니다. 실제로 지금 그렇게 해보겠습니다."
      ]
    },
    {
      "cell_type": "markdown",
      "metadata": {
        "id": "WZjFIiMKZPsi"
      },
      "source": [
        "문제: _또는 산점도의 각 포인트를 이에 상응하는 샘플의 클래스(0에서 9까지 숫자)로 바꾸거나 숫자 이미지 자체의 크기를 줄여서 그릴 수도 있습니다(모든 숫자를 다 그리면 그래프가 너무 복잡해지므로 무작위로 선택한 샘플만 그리거나, 인접한 곳에 다른 샘플이 그려져 있지 않은 경우에만 그립니다). 잘 분리된 숫자의 군집을 시각화할 수 있을 것입니다._"
      ]
    },
    {
      "cell_type": "markdown",
      "metadata": {
        "id": "b4KK98zgZPsi"
      },
      "source": [
        "(위의 산점도와 유사한) 산점도를 그리고 최소한의 거리를 띄고 여러 색깔로 숫자를 쓰는 `plot_digits()` 함수를 만들어 보겠습니다. 숫자 이미지가 제공되면 그 이미지가 대신 그려집니다. 이 구현은 사이킷런의 훌륭한 예제 중 하나(다른 숫자 데이터셋을 사용한 [plot_lle_digits](https://scikit-learn.org/stable/auto_examples/manifold/plot_lle_digits.html))에서 영감을 얻었습니다."
      ]
    },
    {
      "cell_type": "code",
      "execution_count": 69,
      "metadata": {
        "id": "_Mamm8EHZPsi"
      },
      "outputs": [],
      "source": [
        "from sklearn.preprocessing import MinMaxScaler\n",
        "from matplotlib.offsetbox import AnnotationBbox, OffsetImage\n",
        "\n",
        "def plot_digits(X, y, min_distance=0.04, images=None, figsize=(13, 10)):\n",
        "    # 입력 특성의 스케일을 0에서 1까지로 조정해 보겠습니다.\n",
        "    X_normalized = MinMaxScaler().fit_transform(X)\n",
        "    # 이제 지금까지 그린 숫자의 좌표 목록을 만듭니다.\n",
        "    # 아래 루프에서 `if` 문을 피하기 위해 시작할 때 이미 멀리 떨어져 있는 것으로 가정합니다.\n",
        "    neighbors = np.array([[10., 10.]])\n",
        "    # 나머지는 설명이 필요 없습니다.\n",
        "    plt.figure(figsize=figsize)\n",
        "    cmap = plt.cm.jet\n",
        "    digits = np.unique(y)\n",
        "    for digit in digits:\n",
        "        plt.scatter(X_normalized[y == digit, 0], X_normalized[y == digit, 1],\n",
        "                    c=[cmap(float(digit) / 9)], alpha=0.5)\n",
        "    plt.axis(\"off\")\n",
        "    ax = plt.gca()  # 현재 축 가져오기\n",
        "    for index, image_coord in enumerate(X_normalized):\n",
        "        closest_distance = np.linalg.norm(neighbors - image_coord, axis=1).min()\n",
        "        if closest_distance > min_distance:\n",
        "            neighbors = np.r_[neighbors, [image_coord]]\n",
        "            if images is None:\n",
        "                plt.text(image_coord[0], image_coord[1], str(int(y[index])),\n",
        "                         color=cmap(float(y[index]) / 9),\n",
        "                         fontdict={\"weight\": \"bold\", \"size\": 16})\n",
        "            else:\n",
        "                image = images[index].reshape(28, 28)\n",
        "                imagebox = AnnotationBbox(OffsetImage(image, cmap=\"binary\"),\n",
        "                                          image_coord)\n",
        "                ax.add_artist(imagebox)"
      ]
    },
    {
      "cell_type": "markdown",
      "metadata": {
        "id": "mOiyTHFYZPsi"
      },
      "source": [
        "한번 해봅시다! 먼저 5,000개의 이미지 모두에 대해 이미지가 아닌 컬러 숫자를 표시해 보겠습니다:"
      ]
    },
    {
      "cell_type": "code",
      "execution_count": null,
      "metadata": {
        "colab": {
          "base_uri": "https://localhost:8080/",
          "height": 807
        },
        "id": "01Mtf3rqZPsi",
        "outputId": "d27408dd-7290-4f64-df83-2ff3165b259d"
      },
      "outputs": [],
      "source": [
        "plot_digits(X_reduced, y_sample)"
      ]
    },
    {
      "cell_type": "markdown",
      "metadata": {
        "id": "Jx6HwFVLZPsj"
      },
      "source": [
        "괜찮지만 그렇게 아름답지는 않습니다. 숫자 이미지로 시도해 보겠습니다:"
      ]
    },
    {
      "cell_type": "code",
      "execution_count": null,
      "metadata": {
        "colab": {
          "base_uri": "https://localhost:8080/",
          "height": 840
        },
        "id": "CcL6-KOrZPsj",
        "outputId": "1ce8ffdf-203a-427b-a949-f71ebf4a7eb4"
      },
      "outputs": [],
      "source": [
        "plot_digits(X_reduced, y_sample, images=X_sample, figsize=(35, 25))"
      ]
    },
    {
      "cell_type": "markdown",
      "metadata": {
        "id": "o-d0cgAqZPsj"
      },
      "source": [
        "더 멋지네요! 이제 4과 9에만 집중해 보겠습니다:"
      ]
    },
    {
      "cell_type": "code",
      "execution_count": null,
      "metadata": {
        "colab": {
          "base_uri": "https://localhost:8080/",
          "height": 1000
        },
        "id": "ERd8yc_SZPsj",
        "outputId": "22948565-8814-47f8-a345-02c03631d208"
      },
      "outputs": [],
      "source": [
        "plot_digits(X_subset_reduced, y_subset, images=X_subset, figsize=(22, 22))"
      ]
    },
    {
      "cell_type": "markdown",
      "metadata": {
        "id": "mitIF0otZPsj"
      },
      "source": [
        "비슷하게 생긴 4가 어떻게 그룹화되어 있는지 보세요. 예를 들어, 4는 그림의 상단에 가까워질수록 점점 더 기울어집니다. 기울어진 9도 상단에 가까워집니다. 어떤 4는 실제로 9처럼 보이기도 하고 그 반대의 경우도 있습니다."
      ]
    },
    {
      "cell_type": "markdown",
      "metadata": {
        "id": "YQWIvl3kZPsj"
      },
      "source": [
        "문제: _PCA, LLE, MDS 같은 차원 축소 알고리즘을 적용해보고 시각화 결과를 비교해보세요._"
      ]
    },
    {
      "cell_type": "markdown",
      "metadata": {
        "id": "v8M4V-ggZPsj"
      },
      "source": [
        "PCA부터 시작하겠습니다. 소요 시간도 측정해 보겠습니다:"
      ]
    },
    {
      "cell_type": "code",
      "execution_count": null,
      "metadata": {
        "colab": {
          "base_uri": "https://localhost:8080/",
          "height": 843
        },
        "id": "z0LCCgCeZPsj",
        "outputId": "5520b184-6b73-430c-8919-1aed8f1a6655"
      },
      "outputs": [],
      "source": [
        "pca = PCA(n_components=2, random_state=42)\n",
        "%time X_pca_reduced = pca.fit_transform(X_sample)\n",
        "plot_digits(X_pca_reduced, y_sample)\n",
        "plt.show()"
      ]
    },
    {
      "cell_type": "markdown",
      "metadata": {
        "id": "I9GKPA2aZPsj"
      },
      "source": [
        "와, PCA는 정말 빠르네요! 하지만 몇 개의 클러스터가 보이지만 겹치는 부분이 너무 많습니다. LLE를 사용해 봅시다:"
      ]
    },
    {
      "cell_type": "code",
      "execution_count": null,
      "metadata": {
        "colab": {
          "base_uri": "https://localhost:8080/",
          "height": 843
        },
        "id": "nCVKmrfJZPsk",
        "outputId": "6b9ddf94-1b40-4381-e037-c49ec1b8244a"
      },
      "outputs": [],
      "source": [
        "lle = LocallyLinearEmbedding(n_components=2, random_state=42)\n",
        "%time X_lle_reduced = lle.fit_transform(X_sample)\n",
        "plot_digits(X_lle_reduced, y_sample)\n",
        "plt.show()"
      ]
    },
    {
      "cell_type": "markdown",
      "metadata": {
        "id": "1dn1PE2OZPsk"
      },
      "source": [
        "시간이 더 걸리지만 결과는 전혀 좋지 않습니다. 분산 95%를 보존하면서 PCA를 먼저 적용하면 어떤 결과가 나오는지 살펴봅시다:"
      ]
    },
    {
      "cell_type": "code",
      "execution_count": null,
      "metadata": {
        "colab": {
          "base_uri": "https://localhost:8080/",
          "height": 843
        },
        "id": "dqu5705IZPsk",
        "outputId": "6fbb3659-e8a2-44d0-ba01-79616fb68fc4"
      },
      "outputs": [],
      "source": [
        "pca_lle = make_pipeline(PCA(n_components=0.95),\n",
        "                        LocallyLinearEmbedding(n_components=2, random_state=42))\n",
        "\n",
        "%time X_pca_lle_reduced = pca_lle.fit_transform(X_sample)\n",
        "plot_digits(X_pca_lle_reduced, y_sample)\n",
        "plt.show()"
      ]
    },
    {
      "cell_type": "markdown",
      "metadata": {
        "id": "sdnCU9QZZPsk"
      },
      "source": [
        "결과는 다소 나쁘지만 이번 훈련은 조금 더 빨랐습니다."
      ]
    },
    {
      "cell_type": "markdown",
      "metadata": {
        "id": "-_hUB0DcZPsk"
      },
      "source": [
        "MDS를 사용해 보겠습니다:"
      ]
    },
    {
      "cell_type": "markdown",
      "metadata": {
        "id": "M4THipmzZPsk"
      },
      "source": [
        "**경고**, 다음 셀은 하드웨어에 따라 실행하는 데 약 10~30분이 소요됩니다:"
      ]
    },
    {
      "cell_type": "code",
      "execution_count": null,
      "metadata": {
        "colab": {
          "base_uri": "https://localhost:8080/",
          "height": 807
        },
        "id": "hlJNHd56ZPsk",
        "outputId": "26430a0f-fc08-402f-db9e-9fc77d846764"
      },
      "outputs": [],
      "source": [
        "# 사이킷런 1.4버전에서 normalized_stress 매개변수의 기본값이 False에서 \"auto\"로 변경됩니다.\n",
        "# 동일한 결과를 유지하도록 명시적으로 False로 지정합니다.\n",
        "X_mds_reduced = MDS(n_components=2, normalized_stress=False,\n",
        "                    random_state=42).fit_transform(X_sample)\n",
        "plot_digits(X_mds_reduced, y_sample)\n",
        "plt.show()"
      ]
    },
    {
      "cell_type": "markdown",
      "metadata": {
        "id": "Tzg4FtMIZPsk"
      },
      "source": [
        "음. 모든 클러스터가 너무 많이 겹쳐서 보기 좋지 않습니다. PCA로 먼저 시도해 봅시다. 더 빠를까요?"
      ]
    },
    {
      "cell_type": "markdown",
      "metadata": {
        "id": "YXazUBabZPsk"
      },
      "source": [
        "**경고**, 다음 셀은 하드웨어에 따라 실행하는 데 약 10~30분이 소요됩니다:"
      ]
    },
    {
      "cell_type": "code",
      "execution_count": null,
      "metadata": {
        "colab": {
          "base_uri": "https://localhost:8080/",
          "height": 843
        },
        "id": "wlFXGXvWZPsl",
        "outputId": "88924e2b-0d32-48fa-8d1e-3203bbe8ab79"
      },
      "outputs": [],
      "source": [
        "# 사이킷런 1.4버전에서 normalized_stress 매개변수의 기본값이 False에서 \"auto\"로 변경됩니다.\n",
        "# 동일한 결과를 유지하도록 명시적으로 False로 지정합니다.\n",
        "pca_mds = make_pipeline(PCA(n_components=0.95, random_state=42),\n",
        "                        MDS(n_components=2, normalized_stress=False, random_state=42))\n",
        "\n",
        "%time X_pca_mds_reduced = pca_mds.fit_transform(X_sample)\n",
        "plot_digits(X_pca_mds_reduced, y_sample)\n",
        "plt.show()"
      ]
    },
    {
      "cell_type": "markdown",
      "metadata": {
        "id": "uLnOr2xqZPsl"
      },
      "source": [
        "결과는 같고 더 빠르지는 않습니다: 이 경우 PCA는 도움이 되지 않았습니다."
      ]
    },
    {
      "cell_type": "markdown",
      "metadata": {
        "id": "SMva83y3ZPsl"
      },
      "source": [
        "이제 LDA를 사용해 보겠습니다:"
      ]
    },
    {
      "cell_type": "code",
      "execution_count": null,
      "metadata": {
        "colab": {
          "base_uri": "https://localhost:8080/",
          "height": 997
        },
        "id": "tZNctDzDZPsl",
        "outputId": "e0b2d65d-b615-45bd-e700-5ccf8c57ab66"
      },
      "outputs": [],
      "source": [
        "from sklearn.discriminant_analysis import LinearDiscriminantAnalysis\n",
        "\n",
        "lda = LinearDiscriminantAnalysis(n_components=2)\n",
        "%time X_lda_reduced = lda.fit_transform(X_sample, y_sample)\n",
        "plot_digits(X_lda_reduced, y_sample, figsize=(12, 12))\n",
        "plt.show()"
      ]
    },
    {
      "cell_type": "markdown",
      "metadata": {
        "id": "wpBNosEEZPsl"
      },
      "source": [
        "이 방법은 매우 빠르며 처음에는 좋아 보이지만 여러 클러스터가 심하게 겹친다는 것을 알게 될 때까지는 그렇지 않습니다."
      ]
    },
    {
      "cell_type": "markdown",
      "metadata": {
        "id": "yi4jZkZfZPsl"
      },
      "source": [
        "이 시합에서 t-SNE가 우승한 것은 분명하지 않나요?"
      ]
    },
    {
      "cell_type": "markdown",
      "metadata": {
        "id": "SxSqNPO8ZPsl"
      },
      "source": [
        "오늘은 여기까지입니다. 이 장이 재미있으셨기를 바랍니다!"
      ]
    }
  ],
  "metadata": {
    "colab": {
      "provenance": []
    },
    "kernelspec": {
      "display_name": "Python 3",
      "language": "python",
      "name": "python3"
    },
    "language_info": {
      "codemirror_mode": {
        "name": "ipython",
        "version": 3
      },
      "file_extension": ".py",
      "mimetype": "text/x-python",
      "name": "python",
      "nbconvert_exporter": "python",
      "pygments_lexer": "ipython3",
      "version": "3.12.1"
    }
  },
  "nbformat": 4,
  "nbformat_minor": 0
}
